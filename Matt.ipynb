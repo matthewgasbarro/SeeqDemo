{
 "cells": [
  {
   "cell_type": "code",
   "execution_count": null,
   "id": "288f8306-7af0-4b4d-baeb-8bdbd9bddf13",
   "metadata": {},
   "outputs": [
    {
     "data": {
      "text/html": [
       "<div style=\"background-color: #EEEEFF;color:black; text-align: left;\">Initializing</div><table class=\"tex2jax_ignore\" style=\"color:black;\"><tr><td style=\"background-color: #EEEEFF;\"></td><td style=\"background-color: #EEEEFF; text-align: left;\">Path</td><td style=\"background-color: #EEEEFF; text-align: left;\">Name</td><td style=\"background-color: #EEEEFF; text-align: right;\">Time</td><td style=\"background-color: #EEEEFF; text-align: right;\">Count</td><td style=\"background-color: #EEEEFF; text-align: right;\">Pages</td><td style=\"background-color: #EEEEFF; text-align: left;\">Result</td></tr><tr style=\"background-color: #EEEEFF;\"><td style=\"vertical-align: top;\">0</td><td style=\"text-align: left; vertical-align: top;\">Example >> Cooling Tower 1 >> Area A</td><td style=\"text-align: left; vertical-align: top;\">Compressor</td><td style=\"text-align: right; vertical-align: top;\">0</td><td style=\"text-align: right; vertical-align: top;\">0</td><td style=\"text-align: right; vertical-align: top;\">0</td><td style=\"text-align: left; vertical-align: top;\">Queued</td></tr></table>"
      ],
      "text/plain": [
       "<IPython.core.display.HTML object>"
      ]
     },
     "metadata": {},
     "output_type": "display_data"
    }
   ],
   "source": [
    "items = spy.search({\n",
    "    'Path': 'Example >> Cooling Tower 1 >> Area A',\n",
    "    'Name': 'Compressor'\n",
    "})\n",
    "\n",
    "items"
   ]
  },
  {
   "cell_type": "code",
   "execution_count": null,
   "id": "f772bf27-e75b-474f-a1d2-23bbac8f8ab2",
   "metadata": {},
   "outputs": [],
   "source": []
  }
 ],
 "metadata": {
  "kernelspec": {
   "display_name": "Python 3 (ipykernel)",
   "language": "python",
   "name": "python3"
  },
  "language_info": {
   "codemirror_mode": {
    "name": "ipython",
    "version": 3
   },
   "file_extension": ".py",
   "mimetype": "text/x-python",
   "name": "python",
   "nbconvert_exporter": "python",
   "pygments_lexer": "ipython3",
   "version": "3.8.14"
  }
 },
 "nbformat": 4,
 "nbformat_minor": 5
}
